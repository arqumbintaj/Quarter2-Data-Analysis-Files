{
 "cells": [
  {
   "cell_type": "code",
   "execution_count": 2,
   "metadata": {},
   "outputs": [],
   "source": [
    "import pandas as pd"
   ]
  },
  {
   "cell_type": "code",
   "execution_count": 7,
   "metadata": {},
   "outputs": [],
   "source": [
    "data =pd.read_csv(\"./raw_total_fight_data.csv\",sep=\";\") #"
   ]
  },
  {
   "cell_type": "code",
   "execution_count": 8,
   "metadata": {},
   "outputs": [
    {
     "data": {
      "text/html": [
       "<div>\n",
       "<style scoped>\n",
       "    .dataframe tbody tr th:only-of-type {\n",
       "        vertical-align: middle;\n",
       "    }\n",
       "\n",
       "    .dataframe tbody tr th {\n",
       "        vertical-align: top;\n",
       "    }\n",
       "\n",
       "    .dataframe thead th {\n",
       "        text-align: right;\n",
       "    }\n",
       "</style>\n",
       "<table border=\"1\" class=\"dataframe\">\n",
       "  <thead>\n",
       "    <tr style=\"text-align: right;\">\n",
       "      <th></th>\n",
       "      <th>R_fighter</th>\n",
       "      <th>B_fighter</th>\n",
       "      <th>R_KD</th>\n",
       "      <th>B_KD</th>\n",
       "      <th>R_SIG_STR.</th>\n",
       "      <th>B_SIG_STR.</th>\n",
       "      <th>R_SIG_STR_pct</th>\n",
       "      <th>B_SIG_STR_pct</th>\n",
       "      <th>R_TOTAL_STR.</th>\n",
       "      <th>B_TOTAL_STR.</th>\n",
       "      <th>...</th>\n",
       "      <th>B_GROUND</th>\n",
       "      <th>win_by</th>\n",
       "      <th>last_round</th>\n",
       "      <th>last_round_time</th>\n",
       "      <th>Format</th>\n",
       "      <th>Referee</th>\n",
       "      <th>date</th>\n",
       "      <th>location</th>\n",
       "      <th>Fight_type</th>\n",
       "      <th>Winner</th>\n",
       "    </tr>\n",
       "  </thead>\n",
       "  <tbody>\n",
       "    <tr>\n",
       "      <td>0</td>\n",
       "      <td>Henry Cejudo</td>\n",
       "      <td>Marlon Moraes</td>\n",
       "      <td>0</td>\n",
       "      <td>0</td>\n",
       "      <td>90 of 171</td>\n",
       "      <td>57 of 119</td>\n",
       "      <td>52%</td>\n",
       "      <td>47%</td>\n",
       "      <td>99 of 182</td>\n",
       "      <td>59 of 121</td>\n",
       "      <td>...</td>\n",
       "      <td>1 of 1</td>\n",
       "      <td>KO/TKO</td>\n",
       "      <td>3</td>\n",
       "      <td>4:51</td>\n",
       "      <td>5 Rnd (5-5-5-5-5)</td>\n",
       "      <td>Marc Goddard</td>\n",
       "      <td>June 08, 2019</td>\n",
       "      <td>Chicago, Illinois, USA</td>\n",
       "      <td>UFC Bantamweight Title Bout</td>\n",
       "      <td>Henry Cejudo</td>\n",
       "    </tr>\n",
       "    <tr>\n",
       "      <td>1</td>\n",
       "      <td>Valentina Shevchenko</td>\n",
       "      <td>Jessica Eye</td>\n",
       "      <td>1</td>\n",
       "      <td>0</td>\n",
       "      <td>8 of 11</td>\n",
       "      <td>2 of 12</td>\n",
       "      <td>72%</td>\n",
       "      <td>16%</td>\n",
       "      <td>37 of 40</td>\n",
       "      <td>42 of 52</td>\n",
       "      <td>...</td>\n",
       "      <td>0 of 0</td>\n",
       "      <td>KO/TKO</td>\n",
       "      <td>2</td>\n",
       "      <td>0:26</td>\n",
       "      <td>5 Rnd (5-5-5-5-5)</td>\n",
       "      <td>Robert Madrigal</td>\n",
       "      <td>June 08, 2019</td>\n",
       "      <td>Chicago, Illinois, USA</td>\n",
       "      <td>UFC Women's Flyweight Title Bout</td>\n",
       "      <td>Valentina Shevchenko</td>\n",
       "    </tr>\n",
       "    <tr>\n",
       "      <td>2</td>\n",
       "      <td>Tony Ferguson</td>\n",
       "      <td>Donald Cerrone</td>\n",
       "      <td>0</td>\n",
       "      <td>0</td>\n",
       "      <td>104 of 200</td>\n",
       "      <td>68 of 185</td>\n",
       "      <td>52%</td>\n",
       "      <td>36%</td>\n",
       "      <td>104 of 200</td>\n",
       "      <td>68 of 185</td>\n",
       "      <td>...</td>\n",
       "      <td>0 of 0</td>\n",
       "      <td>TKO - Doctor's Stoppage</td>\n",
       "      <td>2</td>\n",
       "      <td>5:00</td>\n",
       "      <td>3 Rnd (5-5-5)</td>\n",
       "      <td>Dan Miragliotta</td>\n",
       "      <td>June 08, 2019</td>\n",
       "      <td>Chicago, Illinois, USA</td>\n",
       "      <td>Lightweight Bout</td>\n",
       "      <td>Tony Ferguson</td>\n",
       "    </tr>\n",
       "    <tr>\n",
       "      <td>3</td>\n",
       "      <td>Jimmie Rivera</td>\n",
       "      <td>Petr Yan</td>\n",
       "      <td>0</td>\n",
       "      <td>2</td>\n",
       "      <td>73 of 192</td>\n",
       "      <td>56 of 189</td>\n",
       "      <td>38%</td>\n",
       "      <td>29%</td>\n",
       "      <td>76 of 195</td>\n",
       "      <td>58 of 192</td>\n",
       "      <td>...</td>\n",
       "      <td>4 of 10</td>\n",
       "      <td>Decision - Unanimous</td>\n",
       "      <td>3</td>\n",
       "      <td>5:00</td>\n",
       "      <td>3 Rnd (5-5-5)</td>\n",
       "      <td>Kevin MacDonald</td>\n",
       "      <td>June 08, 2019</td>\n",
       "      <td>Chicago, Illinois, USA</td>\n",
       "      <td>Bantamweight Bout</td>\n",
       "      <td>Petr Yan</td>\n",
       "    </tr>\n",
       "    <tr>\n",
       "      <td>4</td>\n",
       "      <td>Tai Tuivasa</td>\n",
       "      <td>Blagoy Ivanov</td>\n",
       "      <td>0</td>\n",
       "      <td>1</td>\n",
       "      <td>64 of 144</td>\n",
       "      <td>73 of 123</td>\n",
       "      <td>44%</td>\n",
       "      <td>59%</td>\n",
       "      <td>66 of 146</td>\n",
       "      <td>81 of 131</td>\n",
       "      <td>...</td>\n",
       "      <td>6 of 6</td>\n",
       "      <td>Decision - Unanimous</td>\n",
       "      <td>3</td>\n",
       "      <td>5:00</td>\n",
       "      <td>3 Rnd (5-5-5)</td>\n",
       "      <td>Dan Miragliotta</td>\n",
       "      <td>June 08, 2019</td>\n",
       "      <td>Chicago, Illinois, USA</td>\n",
       "      <td>Heavyweight Bout</td>\n",
       "      <td>Blagoy Ivanov</td>\n",
       "    </tr>\n",
       "    <tr>\n",
       "      <td>...</td>\n",
       "      <td>...</td>\n",
       "      <td>...</td>\n",
       "      <td>...</td>\n",
       "      <td>...</td>\n",
       "      <td>...</td>\n",
       "      <td>...</td>\n",
       "      <td>...</td>\n",
       "      <td>...</td>\n",
       "      <td>...</td>\n",
       "      <td>...</td>\n",
       "      <td>...</td>\n",
       "      <td>...</td>\n",
       "      <td>...</td>\n",
       "      <td>...</td>\n",
       "      <td>...</td>\n",
       "      <td>...</td>\n",
       "      <td>...</td>\n",
       "      <td>...</td>\n",
       "      <td>...</td>\n",
       "      <td>...</td>\n",
       "      <td>...</td>\n",
       "    </tr>\n",
       "    <tr>\n",
       "      <td>5139</td>\n",
       "      <td>Gerard Gordeau</td>\n",
       "      <td>Kevin Rosier</td>\n",
       "      <td>1</td>\n",
       "      <td>0</td>\n",
       "      <td>11 of 17</td>\n",
       "      <td>0 of 3</td>\n",
       "      <td>64%</td>\n",
       "      <td>0%</td>\n",
       "      <td>11 of 17</td>\n",
       "      <td>0 of 3</td>\n",
       "      <td>...</td>\n",
       "      <td>0 of 0</td>\n",
       "      <td>KO/TKO</td>\n",
       "      <td>1</td>\n",
       "      <td>0:59</td>\n",
       "      <td>No Time Limit</td>\n",
       "      <td>Joao Alberto Barreto</td>\n",
       "      <td>November 12, 1993</td>\n",
       "      <td>Denver, Colorado, USA</td>\n",
       "      <td>Open Weight Bout</td>\n",
       "      <td>Gerard Gordeau</td>\n",
       "    </tr>\n",
       "    <tr>\n",
       "      <td>5140</td>\n",
       "      <td>Ken Shamrock</td>\n",
       "      <td>Patrick Smith</td>\n",
       "      <td>0</td>\n",
       "      <td>0</td>\n",
       "      <td>1 of 1</td>\n",
       "      <td>4 of 8</td>\n",
       "      <td>100%</td>\n",
       "      <td>50%</td>\n",
       "      <td>4 of 4</td>\n",
       "      <td>16 of 20</td>\n",
       "      <td>...</td>\n",
       "      <td>2 of 6</td>\n",
       "      <td>Submission</td>\n",
       "      <td>1</td>\n",
       "      <td>1:49</td>\n",
       "      <td>No Time Limit</td>\n",
       "      <td>Joao Alberto Barreto</td>\n",
       "      <td>November 12, 1993</td>\n",
       "      <td>Denver, Colorado, USA</td>\n",
       "      <td>Open Weight Bout</td>\n",
       "      <td>Ken Shamrock</td>\n",
       "    </tr>\n",
       "    <tr>\n",
       "      <td>5141</td>\n",
       "      <td>Royce Gracie</td>\n",
       "      <td>Art Jimmerson</td>\n",
       "      <td>0</td>\n",
       "      <td>0</td>\n",
       "      <td>0 of 3</td>\n",
       "      <td>0 of 0</td>\n",
       "      <td>0%</td>\n",
       "      <td>0%</td>\n",
       "      <td>4 of 7</td>\n",
       "      <td>0 of 0</td>\n",
       "      <td>...</td>\n",
       "      <td>0 of 0</td>\n",
       "      <td>Submission</td>\n",
       "      <td>1</td>\n",
       "      <td>2:18</td>\n",
       "      <td>No Time Limit</td>\n",
       "      <td>Joao Alberto Barreto</td>\n",
       "      <td>November 12, 1993</td>\n",
       "      <td>Denver, Colorado, USA</td>\n",
       "      <td>Open Weight Bout</td>\n",
       "      <td>Royce Gracie</td>\n",
       "    </tr>\n",
       "    <tr>\n",
       "      <td>5142</td>\n",
       "      <td>Kevin Rosier</td>\n",
       "      <td>Zane Frazier</td>\n",
       "      <td>2</td>\n",
       "      <td>0</td>\n",
       "      <td>15 of 27</td>\n",
       "      <td>12 of 28</td>\n",
       "      <td>55%</td>\n",
       "      <td>42%</td>\n",
       "      <td>38 of 53</td>\n",
       "      <td>13 of 29</td>\n",
       "      <td>...</td>\n",
       "      <td>2 of 2</td>\n",
       "      <td>KO/TKO</td>\n",
       "      <td>1</td>\n",
       "      <td>4:20</td>\n",
       "      <td>No Time Limit</td>\n",
       "      <td>Joao Alberto Barreto</td>\n",
       "      <td>November 12, 1993</td>\n",
       "      <td>Denver, Colorado, USA</td>\n",
       "      <td>Open Weight Bout</td>\n",
       "      <td>Kevin Rosier</td>\n",
       "    </tr>\n",
       "    <tr>\n",
       "      <td>5143</td>\n",
       "      <td>Gerard Gordeau</td>\n",
       "      <td>Teila Tuli</td>\n",
       "      <td>0</td>\n",
       "      <td>0</td>\n",
       "      <td>3 of 5</td>\n",
       "      <td>0 of 1</td>\n",
       "      <td>60%</td>\n",
       "      <td>0%</td>\n",
       "      <td>3 of 5</td>\n",
       "      <td>0 of 1</td>\n",
       "      <td>...</td>\n",
       "      <td>0 of 0</td>\n",
       "      <td>KO/TKO</td>\n",
       "      <td>1</td>\n",
       "      <td>0:26</td>\n",
       "      <td>No Time Limit</td>\n",
       "      <td>Joao Alberto Barreto</td>\n",
       "      <td>November 12, 1993</td>\n",
       "      <td>Denver, Colorado, USA</td>\n",
       "      <td>Open Weight Bout</td>\n",
       "      <td>Gerard Gordeau</td>\n",
       "    </tr>\n",
       "  </tbody>\n",
       "</table>\n",
       "<p>5144 rows × 41 columns</p>\n",
       "</div>"
      ],
      "text/plain": [
       "                 R_fighter       B_fighter  R_KD  B_KD  R_SIG_STR. B_SIG_STR.  \\\n",
       "0             Henry Cejudo   Marlon Moraes     0     0   90 of 171  57 of 119   \n",
       "1     Valentina Shevchenko     Jessica Eye     1     0     8 of 11    2 of 12   \n",
       "2            Tony Ferguson  Donald Cerrone     0     0  104 of 200  68 of 185   \n",
       "3            Jimmie Rivera        Petr Yan     0     2   73 of 192  56 of 189   \n",
       "4              Tai Tuivasa   Blagoy Ivanov     0     1   64 of 144  73 of 123   \n",
       "...                    ...             ...   ...   ...         ...        ...   \n",
       "5139        Gerard Gordeau    Kevin Rosier     1     0    11 of 17     0 of 3   \n",
       "5140          Ken Shamrock   Patrick Smith     0     0      1 of 1     4 of 8   \n",
       "5141          Royce Gracie   Art Jimmerson     0     0      0 of 3     0 of 0   \n",
       "5142          Kevin Rosier    Zane Frazier     2     0    15 of 27   12 of 28   \n",
       "5143        Gerard Gordeau      Teila Tuli     0     0      3 of 5     0 of 1   \n",
       "\n",
       "     R_SIG_STR_pct B_SIG_STR_pct R_TOTAL_STR. B_TOTAL_STR.  ... B_GROUND  \\\n",
       "0              52%           47%    99 of 182    59 of 121  ...   1 of 1   \n",
       "1              72%           16%     37 of 40     42 of 52  ...   0 of 0   \n",
       "2              52%           36%   104 of 200    68 of 185  ...   0 of 0   \n",
       "3              38%           29%    76 of 195    58 of 192  ...  4 of 10   \n",
       "4              44%           59%    66 of 146    81 of 131  ...   6 of 6   \n",
       "...            ...           ...          ...          ...  ...      ...   \n",
       "5139           64%            0%     11 of 17       0 of 3  ...   0 of 0   \n",
       "5140          100%           50%       4 of 4     16 of 20  ...   2 of 6   \n",
       "5141            0%            0%       4 of 7       0 of 0  ...   0 of 0   \n",
       "5142           55%           42%     38 of 53     13 of 29  ...   2 of 2   \n",
       "5143           60%            0%       3 of 5       0 of 1  ...   0 of 0   \n",
       "\n",
       "                       win_by last_round last_round_time             Format  \\\n",
       "0                      KO/TKO          3            4:51  5 Rnd (5-5-5-5-5)   \n",
       "1                      KO/TKO          2            0:26  5 Rnd (5-5-5-5-5)   \n",
       "2     TKO - Doctor's Stoppage          2            5:00      3 Rnd (5-5-5)   \n",
       "3        Decision - Unanimous          3            5:00      3 Rnd (5-5-5)   \n",
       "4        Decision - Unanimous          3            5:00      3 Rnd (5-5-5)   \n",
       "...                       ...        ...             ...                ...   \n",
       "5139                   KO/TKO          1            0:59      No Time Limit   \n",
       "5140               Submission          1            1:49      No Time Limit   \n",
       "5141               Submission          1            2:18      No Time Limit   \n",
       "5142                   KO/TKO          1            4:20      No Time Limit   \n",
       "5143                   KO/TKO          1            0:26      No Time Limit   \n",
       "\n",
       "                   Referee               date                location  \\\n",
       "0             Marc Goddard      June 08, 2019  Chicago, Illinois, USA   \n",
       "1          Robert Madrigal      June 08, 2019  Chicago, Illinois, USA   \n",
       "2          Dan Miragliotta      June 08, 2019  Chicago, Illinois, USA   \n",
       "3          Kevin MacDonald      June 08, 2019  Chicago, Illinois, USA   \n",
       "4          Dan Miragliotta      June 08, 2019  Chicago, Illinois, USA   \n",
       "...                    ...                ...                     ...   \n",
       "5139  Joao Alberto Barreto  November 12, 1993   Denver, Colorado, USA   \n",
       "5140  Joao Alberto Barreto  November 12, 1993   Denver, Colorado, USA   \n",
       "5141  Joao Alberto Barreto  November 12, 1993   Denver, Colorado, USA   \n",
       "5142  Joao Alberto Barreto  November 12, 1993   Denver, Colorado, USA   \n",
       "5143  Joao Alberto Barreto  November 12, 1993   Denver, Colorado, USA   \n",
       "\n",
       "                            Fight_type                Winner  \n",
       "0          UFC Bantamweight Title Bout          Henry Cejudo  \n",
       "1     UFC Women's Flyweight Title Bout  Valentina Shevchenko  \n",
       "2                     Lightweight Bout         Tony Ferguson  \n",
       "3                    Bantamweight Bout              Petr Yan  \n",
       "4                     Heavyweight Bout         Blagoy Ivanov  \n",
       "...                                ...                   ...  \n",
       "5139                  Open Weight Bout        Gerard Gordeau  \n",
       "5140                  Open Weight Bout          Ken Shamrock  \n",
       "5141                  Open Weight Bout          Royce Gracie  \n",
       "5142                  Open Weight Bout          Kevin Rosier  \n",
       "5143                  Open Weight Bout        Gerard Gordeau  \n",
       "\n",
       "[5144 rows x 41 columns]"
      ]
     },
     "execution_count": 8,
     "metadata": {},
     "output_type": "execute_result"
    }
   ],
   "source": [
    "data"
   ]
  },
  {
   "cell_type": "code",
   "execution_count": 7,
   "metadata": {},
   "outputs": [
    {
     "data": {
      "text/plain": [
       "Index(['R_fighter', 'B_fighter', 'R_KD', 'B_KD', 'R_SIG_STR.', 'B_SIG_STR.',\n",
       "       'R_SIG_STR_pct', 'B_SIG_STR_pct', 'R_TOTAL_STR.', 'B_TOTAL_STR.',\n",
       "       'R_TD', 'B_TD', 'R_TD_pct', 'B_TD_pct', 'R_SUB_ATT', 'B_SUB_ATT',\n",
       "       'R_PASS', 'B_PASS', 'R_REV', 'B_REV', 'R_HEAD', 'B_HEAD', 'R_BODY',\n",
       "       'B_BODY', 'R_LEG', 'B_LEG', 'R_DISTANCE', 'B_DISTANCE', 'R_CLINCH',\n",
       "       'B_CLINCH', 'R_GROUND', 'B_GROUND', 'win_by', 'last_round',\n",
       "       'last_round_time', 'Format', 'Referee', 'date', 'location',\n",
       "       'Fight_type', 'Winner'],\n",
       "      dtype='object')"
      ]
     },
     "execution_count": 7,
     "metadata": {},
     "output_type": "execute_result"
    }
   ],
   "source": [
    "data.columns"
   ]
  },
  {
   "cell_type": "code",
   "execution_count": 8,
   "metadata": {},
   "outputs": [
    {
     "data": {
      "text/plain": [
       "R_fighter                         Henry Cejudo\n",
       "B_fighter                        Marlon Moraes\n",
       "R_KD                                         0\n",
       "B_KD                                         0\n",
       "R_SIG_STR.                           90 of 171\n",
       "B_SIG_STR.                           57 of 119\n",
       "R_SIG_STR_pct                              52%\n",
       "B_SIG_STR_pct                              47%\n",
       "R_TOTAL_STR.                         99 of 182\n",
       "B_TOTAL_STR.                         59 of 121\n",
       "R_TD                                    1 of 4\n",
       "B_TD                                    0 of 2\n",
       "R_TD_pct                                   25%\n",
       "B_TD_pct                                    0%\n",
       "R_SUB_ATT                                    1\n",
       "B_SUB_ATT                                    0\n",
       "R_PASS                                       1\n",
       "B_PASS                                       0\n",
       "R_REV                                        0\n",
       "B_REV                                        0\n",
       "R_HEAD                               73 of 150\n",
       "B_HEAD                                35 of 89\n",
       "R_BODY                                13 of 16\n",
       "B_BODY                                  7 of 8\n",
       "R_LEG                                   4 of 5\n",
       "B_LEG                                 15 of 22\n",
       "R_DISTANCE                           45 of 118\n",
       "B_DISTANCE                           54 of 116\n",
       "R_CLINCH                              19 of 23\n",
       "B_CLINCH                                2 of 2\n",
       "R_GROUND                              26 of 30\n",
       "B_GROUND                                1 of 1\n",
       "win_by                                  KO/TKO\n",
       "last_round                                   3\n",
       "last_round_time                           4:51\n",
       "Format                       5 Rnd (5-5-5-5-5)\n",
       "Referee                           Marc Goddard\n",
       "date                             June 08, 2019\n",
       "location                Chicago, Illinois, USA\n",
       "Fight_type         UFC Bantamweight Title Bout\n",
       "Winner                            Henry Cejudo\n",
       "Name: 0, dtype: object"
      ]
     },
     "execution_count": 8,
     "metadata": {},
     "output_type": "execute_result"
    }
   ],
   "source": [
    "data.iloc[0]"
   ]
  },
  {
   "cell_type": "code",
   "execution_count": 9,
   "metadata": {},
   "outputs": [
    {
     "data": {
      "text/plain": [
       "0"
      ]
     },
     "execution_count": 9,
     "metadata": {},
     "output_type": "execute_result"
    }
   ],
   "source": [
    "data[\"R_SIG_STR.\"].isnull().sum()"
   ]
  },
  {
   "cell_type": "code",
   "execution_count": 10,
   "metadata": {},
   "outputs": [],
   "source": [
    "data[\"R_SIG_STR_ATT\"]= data[\"R_SIG_STR.\"].apply(lambda x : int(x.split(\"of\")[-1]))"
   ]
  },
  {
   "cell_type": "code",
   "execution_count": 11,
   "metadata": {},
   "outputs": [
    {
     "data": {
      "text/plain": [
       "Index(['R_fighter', 'B_fighter', 'R_KD', 'B_KD', 'R_SIG_STR.', 'B_SIG_STR.',\n",
       "       'R_SIG_STR_pct', 'B_SIG_STR_pct', 'R_TOTAL_STR.', 'B_TOTAL_STR.',\n",
       "       'R_TD', 'B_TD', 'R_TD_pct', 'B_TD_pct', 'R_SUB_ATT', 'B_SUB_ATT',\n",
       "       'R_PASS', 'B_PASS', 'R_REV', 'B_REV', 'R_HEAD', 'B_HEAD', 'R_BODY',\n",
       "       'B_BODY', 'R_LEG', 'B_LEG', 'R_DISTANCE', 'B_DISTANCE', 'R_CLINCH',\n",
       "       'B_CLINCH', 'R_GROUND', 'B_GROUND', 'win_by', 'last_round',\n",
       "       'last_round_time', 'Format', 'Referee', 'date', 'location',\n",
       "       'Fight_type', 'Winner', 'R_SIG_STR_ATT'],\n",
       "      dtype='object')"
      ]
     },
     "execution_count": 11,
     "metadata": {},
     "output_type": "execute_result"
    }
   ],
   "source": [
    "data.columns"
   ]
  },
  {
   "cell_type": "code",
   "execution_count": 11,
   "metadata": {},
   "outputs": [],
   "source": [
    "data[\"R_SIG_STR_landed\"]= data[\"R_SIG_STR.\"].apply(lambda x : int(x.split(\"of\")[0]))"
   ]
  },
  {
   "cell_type": "code",
   "execution_count": 12,
   "metadata": {},
   "outputs": [
    {
     "data": {
      "text/plain": [
       "R_fighter                          Henry Cejudo\n",
       "B_fighter                         Marlon Moraes\n",
       "R_KD                                          0\n",
       "B_KD                                          0\n",
       "R_SIG_STR.                            90 of 171\n",
       "B_SIG_STR.                            57 of 119\n",
       "R_SIG_STR_pct                               52%\n",
       "B_SIG_STR_pct                               47%\n",
       "R_TOTAL_STR.                          99 of 182\n",
       "B_TOTAL_STR.                          59 of 121\n",
       "R_TD                                     1 of 4\n",
       "B_TD                                     0 of 2\n",
       "R_TD_pct                                    25%\n",
       "B_TD_pct                                     0%\n",
       "R_SUB_ATT                                     1\n",
       "B_SUB_ATT                                     0\n",
       "R_PASS                                        1\n",
       "B_PASS                                        0\n",
       "R_REV                                         0\n",
       "B_REV                                         0\n",
       "R_HEAD                                73 of 150\n",
       "B_HEAD                                 35 of 89\n",
       "R_BODY                                 13 of 16\n",
       "B_BODY                                   7 of 8\n",
       "R_LEG                                    4 of 5\n",
       "B_LEG                                  15 of 22\n",
       "R_DISTANCE                            45 of 118\n",
       "B_DISTANCE                            54 of 116\n",
       "R_CLINCH                               19 of 23\n",
       "B_CLINCH                                 2 of 2\n",
       "R_GROUND                               26 of 30\n",
       "B_GROUND                                 1 of 1\n",
       "win_by                                   KO/TKO\n",
       "last_round                                    3\n",
       "last_round_time                            4:51\n",
       "Format                        5 Rnd (5-5-5-5-5)\n",
       "Referee                            Marc Goddard\n",
       "date                              June 08, 2019\n",
       "location                 Chicago, Illinois, USA\n",
       "Fight_type          UFC Bantamweight Title Bout\n",
       "Winner                             Henry Cejudo\n",
       "R_SIG_STR_ATT                               171\n",
       "R_SIG_STR_landed                             90\n",
       "Name: 0, dtype: object"
      ]
     },
     "execution_count": 12,
     "metadata": {},
     "output_type": "execute_result"
    }
   ],
   "source": [
    "data.iloc[0]"
   ]
  },
  {
   "cell_type": "code",
   "execution_count": 13,
   "metadata": {},
   "outputs": [],
   "source": [
    "data.drop(\"R_SIG_STR.\",axis=1,inplace=True)"
   ]
  },
  {
   "cell_type": "code",
   "execution_count": 14,
   "metadata": {},
   "outputs": [
    {
     "data": {
      "text/plain": [
       "R_fighter                          Henry Cejudo\n",
       "B_fighter                         Marlon Moraes\n",
       "R_KD                                          0\n",
       "B_KD                                          0\n",
       "B_SIG_STR.                            57 of 119\n",
       "R_SIG_STR_pct                               52%\n",
       "B_SIG_STR_pct                               47%\n",
       "R_TOTAL_STR.                          99 of 182\n",
       "B_TOTAL_STR.                          59 of 121\n",
       "R_TD                                     1 of 4\n",
       "B_TD                                     0 of 2\n",
       "R_TD_pct                                    25%\n",
       "B_TD_pct                                     0%\n",
       "R_SUB_ATT                                     1\n",
       "B_SUB_ATT                                     0\n",
       "R_PASS                                        1\n",
       "B_PASS                                        0\n",
       "R_REV                                         0\n",
       "B_REV                                         0\n",
       "R_HEAD                                73 of 150\n",
       "B_HEAD                                 35 of 89\n",
       "R_BODY                                 13 of 16\n",
       "B_BODY                                   7 of 8\n",
       "R_LEG                                    4 of 5\n",
       "B_LEG                                  15 of 22\n",
       "R_DISTANCE                            45 of 118\n",
       "B_DISTANCE                            54 of 116\n",
       "R_CLINCH                               19 of 23\n",
       "B_CLINCH                                 2 of 2\n",
       "R_GROUND                               26 of 30\n",
       "B_GROUND                                 1 of 1\n",
       "win_by                                   KO/TKO\n",
       "last_round                                    3\n",
       "last_round_time                            4:51\n",
       "Format                        5 Rnd (5-5-5-5-5)\n",
       "Referee                            Marc Goddard\n",
       "date                              June 08, 2019\n",
       "location                 Chicago, Illinois, USA\n",
       "Fight_type          UFC Bantamweight Title Bout\n",
       "Winner                             Henry Cejudo\n",
       "R_SIG_STR_ATT                               171\n",
       "R_SIG_STR_landed                             90\n",
       "Name: 0, dtype: object"
      ]
     },
     "execution_count": 14,
     "metadata": {},
     "output_type": "execute_result"
    }
   ],
   "source": [
    "data.iloc[0]"
   ]
  },
  {
   "cell_type": "code",
   "execution_count": 15,
   "metadata": {},
   "outputs": [
    {
     "data": {
      "text/plain": [
       "0"
      ]
     },
     "execution_count": 15,
     "metadata": {},
     "output_type": "execute_result"
    }
   ],
   "source": [
    "data['R_SIG_STR_pct'].isnull().sum()"
   ]
  },
  {
   "cell_type": "code",
   "execution_count": 16,
   "metadata": {},
   "outputs": [],
   "source": [
    "data['R_SIG_STR_pct']=data['R_SIG_STR_pct'].apply(lambda x : float(x.replace(\"%\",\"\"))/100)"
   ]
  },
  {
   "cell_type": "code",
   "execution_count": 17,
   "metadata": {},
   "outputs": [
    {
     "data": {
      "text/plain": [
       "0       0.52\n",
       "1       0.72\n",
       "2       0.52\n",
       "3       0.38\n",
       "4       0.44\n",
       "5       0.52\n",
       "6       0.49\n",
       "7       0.38\n",
       "8       0.41\n",
       "9       0.37\n",
       "10      0.36\n",
       "11      0.43\n",
       "12      0.37\n",
       "13      0.47\n",
       "14      0.66\n",
       "15      0.33\n",
       "16      0.39\n",
       "17      0.48\n",
       "18      0.39\n",
       "19      0.54\n",
       "20      0.18\n",
       "21      0.46\n",
       "22      0.26\n",
       "23      0.47\n",
       "24      0.46\n",
       "25      0.54\n",
       "26      0.45\n",
       "27      0.50\n",
       "28      0.72\n",
       "29      0.64\n",
       "        ... \n",
       "5114    0.63\n",
       "5115    0.54\n",
       "5116    1.00\n",
       "5117    0.33\n",
       "5118    0.75\n",
       "5119    0.88\n",
       "5120    0.68\n",
       "5121    1.00\n",
       "5122    0.00\n",
       "5123    0.41\n",
       "5124    0.00\n",
       "5125    1.00\n",
       "5126    0.44\n",
       "5127    0.76\n",
       "5128    0.50\n",
       "5129    0.60\n",
       "5130    0.66\n",
       "5131    0.66\n",
       "5132    0.66\n",
       "5133    0.64\n",
       "5134    1.00\n",
       "5135    1.00\n",
       "5136    0.50\n",
       "5137    0.33\n",
       "5138    0.00\n",
       "5139    0.64\n",
       "5140    1.00\n",
       "5141    0.00\n",
       "5142    0.55\n",
       "5143    0.60\n",
       "Name: R_SIG_STR_pct, Length: 5144, dtype: float64"
      ]
     },
     "execution_count": 17,
     "metadata": {},
     "output_type": "execute_result"
    }
   ],
   "source": [
    "data[\"R_SIG_STR_pct\"]"
   ]
  },
  {
   "cell_type": "code",
   "execution_count": 19,
   "metadata": {},
   "outputs": [
    {
     "data": {
      "text/plain": [
       "<matplotlib.axes._subplots.AxesSubplot at 0x14d3fc2e668>"
      ]
     },
     "execution_count": 19,
     "metadata": {},
     "output_type": "execute_result"
    },
    {
     "data": {
      "image/png": "[encoded data removed]",
      "text/plain": [
       "<Figure size 432x288 with 1 Axes>"
      ]
     },
     "metadata": {
      "needs_background": "light"
     },
     "output_type": "display_data"
    }
   ],
   "source": [
    "data['R_SIG_STR_pct'].hist()"
   ]
  },
  {
   "cell_type": "code",
   "execution_count": 21,
   "metadata": {},
   "outputs": [
    {
     "data": {
      "text/plain": [
       "83"
      ]
     },
     "execution_count": 21,
     "metadata": {},
     "output_type": "execute_result"
    }
   ],
   "source": [
    "data[\"Winner\"].isnull().sum()"
   ]
  },
  {
   "cell_type": "code",
   "execution_count": 23,
   "metadata": {},
   "outputs": [],
   "source": [
    "data[\"Winner\"].fillna(\"draw\",inplace=True)"
   ]
  },
  {
   "cell_type": "code",
   "execution_count": 24,
   "metadata": {},
   "outputs": [],
   "source": [
    "def get_winner(row):\n",
    "    if row[\"R_fighter\"] == row[\"Winner\"]:\n",
    "        return \"red\"\n",
    "    elif row[\"B_fighter\"] == row[\"Winner\"]:\n",
    "        return \"blue\"\n",
    "    elif row[\"Winner\"] == \"draw\":\n",
    "        return \"draw\"\n",
    "    \n",
    "    \n",
    "       "
   ]
  },
  {
   "cell_type": "code",
   "execution_count": 25,
   "metadata": {},
   "outputs": [],
   "source": [
    "data[\"Winner\"] = data[[\"R_fighter\",\"B_fighter\",\"Winner\"]].apply(get_winner,axis=1)"
   ]
  },
  {
   "cell_type": "code",
   "execution_count": 26,
   "metadata": {},
   "outputs": [
    {
     "data": {
      "text/plain": [
       "0        red\n",
       "1        red\n",
       "2        red\n",
       "3       blue\n",
       "4       blue\n",
       "5        red\n",
       "6        red\n",
       "7       blue\n",
       "8       blue\n",
       "9        red\n",
       "10      blue\n",
       "11       red\n",
       "12       red\n",
       "13      blue\n",
       "14      blue\n",
       "15       red\n",
       "16      blue\n",
       "17       red\n",
       "18      blue\n",
       "19      blue\n",
       "20      blue\n",
       "21      blue\n",
       "22       red\n",
       "23      blue\n",
       "24       red\n",
       "25       red\n",
       "26      blue\n",
       "27      blue\n",
       "28       red\n",
       "29       red\n",
       "        ... \n",
       "5114     red\n",
       "5115     red\n",
       "5116     red\n",
       "5117     red\n",
       "5118     red\n",
       "5119     red\n",
       "5120     red\n",
       "5121     red\n",
       "5122     red\n",
       "5123     red\n",
       "5124     red\n",
       "5125     red\n",
       "5126     red\n",
       "5127     red\n",
       "5128     red\n",
       "5129     red\n",
       "5130     red\n",
       "5131     red\n",
       "5132     red\n",
       "5133     red\n",
       "5134     red\n",
       "5135     red\n",
       "5136     red\n",
       "5137     red\n",
       "5138     red\n",
       "5139     red\n",
       "5140     red\n",
       "5141     red\n",
       "5142     red\n",
       "5143     red\n",
       "Name: Winner, Length: 5144, dtype: object"
      ]
     },
     "execution_count": 26,
     "metadata": {},
     "output_type": "execute_result"
    }
   ],
   "source": [
    "data[\"Winner\"]"
   ]
  },
  {
   "cell_type": "code",
   "execution_count": 30,
   "metadata": {},
   "outputs": [
    {
     "data": {
      "image/png": "[encoded data removed]",
      "text/plain": [
       "<Figure size 432x288 with 1 Axes>"
      ]
     },
     "metadata": {},
     "output_type": "display_data"
    }
   ],
   "source": [
    "import matplotlib.pyplot as plt\n",
    "data[\"Winner\"].value_counts().plot.pie(explode=[0.05,0.05,0.05],autopct=\"%1.1f%%\")\n",
    "plt.show()"
   ]
  },
  {
   "cell_type": "code",
   "execution_count": null,
   "metadata": {},
   "outputs": [],
   "source": [
    "b[[1, 0, 1, 0]][:,[0,1,2,0]]"
   ]
  }
 ],
 "metadata": {
  "kernelspec": {
   "display_name": "Python 3",
   "language": "python",
   "name": "python3"
  },
  "language_info": {
   "codemirror_mode": {
    "name": "ipython",
    "version": 3
   },
   "file_extension": ".py",
   "mimetype": "text/x-python",
   "name": "python",
   "nbconvert_exporter": "python",
   "pygments_lexer": "ipython3",
   "version": "3.7.4"
  }
 },
 "nbformat": 4,
 "nbformat_minor": 2
}
